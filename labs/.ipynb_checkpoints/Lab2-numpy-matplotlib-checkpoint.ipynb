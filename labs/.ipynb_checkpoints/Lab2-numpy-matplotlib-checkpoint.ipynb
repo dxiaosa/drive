{
 "cells": [
  {
   "cell_type": "markdown",
   "metadata": {
    "_cell_guid": "b1076dfc-b9ad-4769-8c92-a6c4dae69d19",
    "_uuid": "8f2839f25d086af736a60e9eeb907d3b93b6e0e5",
    "execution": {
     "iopub.execute_input": "2022-01-16T00:24:25.050399Z",
     "iopub.status.busy": "2022-01-16T00:24:25.049983Z",
     "iopub.status.idle": "2022-01-16T00:24:25.08066Z",
     "shell.execute_reply": "2022-01-16T00:24:25.079526Z",
     "shell.execute_reply.started": "2022-01-16T00:24:25.050305Z"
    }
   },
   "source": [
    "# <div class=\"alert alert-block alert-success\">\n",
    "# In this tutorial, we’ll walk through using  <FONT COLOR=\"RED\">NumPy</FONT> to visualilze and analyze  <FONT COLOR=\"RED\">data on wine quality</FONT>. The data contains information on various attributes of wines, such as <FONT COLOR=\"RED\">pH</FONT> and <FONT COLOR=\"RED\">fixed acidity</FONT>, along with a <FONT COLOR=\"RED\">quality score</FONT> between 0 and 10 for each wine. The quality score is the average of at least 3 human taste testers. \n",
    "#  \n",
    "# Dataset used in this lecture is avaialble at https://archive.ics.uci.edu/ml/datasets/Wine+Quality\n",
    "# </div>"
   ]
  },
  {
   "cell_type": "markdown",
   "metadata": {},
   "source": [
    "# Plot from Wines"
   ]
  },
  {
   "cell_type": "code",
   "execution_count": null,
   "metadata": {
    "execution": {
     "iopub.execute_input": "2022-01-16T02:44:16.397093Z",
     "iopub.status.busy": "2022-01-16T02:44:16.396783Z",
     "iopub.status.idle": "2022-01-16T02:44:16.423851Z",
     "shell.execute_reply": "2022-01-16T02:44:16.423091Z",
     "shell.execute_reply.started": "2022-01-16T02:44:16.397059Z"
    }
   },
   "outputs": [],
   "source": [
    "import numpy as np"
   ]
  },
  {
   "cell_type": "code",
   "execution_count": null,
   "metadata": {},
   "outputs": [],
   "source": [
    "wines = np.genfromtxt(\"../dataset/wine_quality/winequality-red.csv\", delimiter=\";\", skip_header=1)"
   ]
  },
  {
   "cell_type": "code",
   "execution_count": null,
   "metadata": {
    "execution": {
     "iopub.execute_input": "2022-01-16T02:44:19.019799Z",
     "iopub.status.busy": "2022-01-16T02:44:19.019338Z",
     "iopub.status.idle": "2022-01-16T02:44:19.025261Z",
     "shell.execute_reply": "2022-01-16T02:44:19.024637Z",
     "shell.execute_reply.started": "2022-01-16T02:44:19.019766Z"
    }
   },
   "outputs": [],
   "source": [
    "wines.shape"
   ]
  },
  {
   "cell_type": "code",
   "execution_count": null,
   "metadata": {
    "execution": {
     "iopub.execute_input": "2022-01-16T02:47:28.833234Z",
     "iopub.status.busy": "2022-01-16T02:47:28.832862Z",
     "iopub.status.idle": "2022-01-16T02:47:32.259954Z",
     "shell.execute_reply": "2022-01-16T02:47:32.258771Z",
     "shell.execute_reply.started": "2022-01-16T02:47:28.833184Z"
    }
   },
   "outputs": [],
   "source": [
    "### plot the wine quality with bar plot\n",
    "\n",
    "from matplotlib import pyplot as plt \n",
    "wineIds = np.arange(start=0, stop=1599, step=1)\n",
    "qualities = wines[:, 11] \n",
    "\n",
    "f = plt.figure()\n",
    "f.set_figwidth(25)\n",
    "f.set_figheight(5)\n",
    "\n",
    "plt.bar(wineIds, qualities, color = 'g', align = 'center') \n",
    "\n",
    "plt.title('Bar graph to represent Wines quality') \n",
    "plt.ylabel('Quality') \n",
    "plt.xlabel('Wine')  \n",
    "\n",
    "plt.show()"
   ]
  },
  {
   "cell_type": "code",
   "execution_count": null,
   "metadata": {},
   "outputs": [],
   "source": [
    "! pip install seaborn"
   ]
  },
  {
   "cell_type": "code",
   "execution_count": null,
   "metadata": {
    "execution": {
     "iopub.execute_input": "2022-01-16T02:54:28.336087Z",
     "iopub.status.busy": "2022-01-16T02:54:28.335789Z",
     "iopub.status.idle": "2022-01-16T02:54:28.607564Z",
     "shell.execute_reply": "2022-01-16T02:54:28.606452Z",
     "shell.execute_reply.started": "2022-01-16T02:54:28.336057Z"
    }
   },
   "outputs": [],
   "source": [
    "### plot the histogram of wine quality \n",
    "\n",
    "from matplotlib import pyplot as plt \n",
    "import seaborn as sns\n",
    "\n",
    "wineIds = np.arange(start=0, stop=1599, step=1)\n",
    "qualities = wines[:, 11] \n",
    "\n",
    "f = plt.figure()\n",
    "f.set_figwidth(25)\n",
    "f.set_figheight(5)\n",
    "\n",
    "\n",
    "# matplotlib histogram\n",
    "plt.hist(qualities, color = 'blue', edgecolor = 'black',\n",
    "         bins = 10)\n",
    "\n",
    "# Add labels\n",
    "plt.title('Histogram of Wine Quality')\n",
    "plt.xlabel('Quality')\n",
    "plt.ylabel('Wines')"
   ]
  },
  {
   "cell_type": "code",
   "execution_count": null,
   "metadata": {
    "execution": {
     "iopub.execute_input": "2022-01-16T03:00:33.918623Z",
     "iopub.status.busy": "2022-01-16T03:00:33.918322Z",
     "iopub.status.idle": "2022-01-16T03:00:34.273016Z",
     "shell.execute_reply": "2022-01-16T03:00:34.272208Z",
     "shell.execute_reply.started": "2022-01-16T03:00:33.918592Z"
    }
   },
   "outputs": [],
   "source": [
    "### plot the acidity and ph of wine with line plot seperately\n",
    "\n",
    "import numpy as np \n",
    "import matplotlib.pyplot as plt\n",
    "\n",
    "# Data Coordinates\n",
    "\n",
    "wineIds = np.arange(start=0, stop=1599, step=1)\n",
    "fixedAcidity = wines[:, 0] \n",
    "ph = wines[:, 8] \n",
    "\n",
    "\n",
    "f = plt.figure()\n",
    "f.set_figwidth(25)\n",
    "f.set_figheight(10)\n",
    "\n",
    "\n",
    "# PLot\n",
    "\n",
    "plt.plot(wineIds, fixedAcidity) \n",
    "plt.plot(wineIds, ph)\n",
    "\n",
    "# Add Title\n",
    "\n",
    "plt.title(\"Fixed acidity and pH data from the 1599 wines\") \n",
    "\n",
    "# Add Axes Labels\n",
    "\n",
    "plt.xlabel(\"Wines\") \n",
    "plt.ylabel(\"Values\") \n",
    "\n",
    "# Display\n",
    "\n",
    "plt.show()"
   ]
  },
  {
   "cell_type": "code",
   "execution_count": null,
   "metadata": {
    "execution": {
     "iopub.execute_input": "2022-01-16T03:08:29.603795Z",
     "iopub.status.busy": "2022-01-16T03:08:29.603437Z",
     "iopub.status.idle": "2022-01-16T03:08:30.073509Z",
     "shell.execute_reply": "2022-01-16T03:08:30.072353Z",
     "shell.execute_reply.started": "2022-01-16T03:08:29.603761Z"
    }
   },
   "outputs": [],
   "source": [
    "### plot the scatter plot for the acidity, ph, and quality.\n",
    "\n",
    "import numpy as np \n",
    "import matplotlib.pyplot as plt\n",
    "\n",
    "# Data Coordinates\n",
    "\n",
    "wineIds = np.arange(start=0, stop=1599, step=1)\n",
    "fixedAcidity = wines[:, 0] \n",
    "ph = wines[:, 8] \n",
    "qualities = wines[:, 11] \n",
    "\n",
    "\n",
    "# Create figure and subplot\n",
    "\n",
    "fig = plt.figure()\n",
    "ax = fig.add_subplot(111, projection='3d')\n",
    "fig.set_figwidth(25)\n",
    "fig.set_figheight(25)\n",
    "\n",
    "\n",
    "\n",
    "# Plot\n",
    "\n",
    "ax.scatter(fixedAcidity, ph, qualities, color='red')\n",
    "ax.set_xlabel('fixedAcidity')\n",
    "ax.set_ylabel('ph')\n",
    "ax.set_zlabel('qualities')\n",
    "\n",
    "# Display\n",
    "\n",
    "plt.show()"
   ]
  },
  {
   "cell_type": "markdown",
   "metadata": {},
   "source": []
  },
  {
   "cell_type": "markdown",
   "metadata": {},
   "source": []
  }
 ],
 "metadata": {
  "kernelspec": {
   "display_name": "Python 3 (ipykernel)",
   "language": "python",
   "name": "python3"
  },
  "language_info": {
   "codemirror_mode": {
    "name": "ipython",
    "version": 3
   },
   "file_extension": ".py",
   "mimetype": "text/x-python",
   "name": "python",
   "nbconvert_exporter": "python",
   "pygments_lexer": "ipython3",
   "version": "3.8.13"
  }
 },
 "nbformat": 4,
 "nbformat_minor": 4
}
