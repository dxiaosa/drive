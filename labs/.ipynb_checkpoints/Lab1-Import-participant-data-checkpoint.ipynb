{
 "cells": [
  {
   "cell_type": "markdown",
   "metadata": {},
   "source": [
    "You can use the Jupyter notebook to load "
   ]
  },
  {
   "cell_type": "markdown",
   "metadata": {},
   "source": [
    "#### Environment set"
   ]
  },
  {
   "cell_type": "code",
   "execution_count": null,
   "metadata": {},
   "outputs": [],
   "source": [
    "! pip install scikit-learn"
   ]
  },
  {
   "cell_type": "code",
   "execution_count": null,
   "metadata": {},
   "outputs": [],
   "source": [
    "###### Import necessary libraries\n",
    "from IPython.core.debugger import set_trace\n",
    "import os\n",
    "import sys\n",
    "import numpy as np\n",
    "import pandas as pd\n",
    "import matplotlib.pyplot as plt\n",
    "from sklearn.preprocessing import LabelEncoder\n",
    "\n",
    "module_path = os.path.abspath(os.path.join(\"..\"))\n",
    "if module_path not in sys.path:\n",
    "    sys.path.append(module_path)\n",
    "\n",
    "plt.style.use(style=\"seaborn\")\n",
    "%matplotlib inline"
   ]
  },
  {
   "cell_type": "markdown",
   "metadata": {},
   "source": [
    "#### Data preparation"
   ]
  },
  {
   "cell_type": "markdown",
   "metadata": {},
   "source": [
    "Synthetic Financial Datasets For Fraud Detection\n",
    "\n",
    "It simulates mobile money transactions based on a sample of real transactions extracted from one month of financial logs from a mobile money service implemented in an African country. \n",
    "\n",
    "Src: https://www.kaggle.com/datasets/ealaxi/paysim1"
   ]
  },
  {
   "cell_type": "code",
   "execution_count": null,
   "metadata": {},
   "outputs": [],
   "source": [
    "df = pd.read_csv(\n",
    "    f\"PS_20174392719_1491204439457_log.csv\", \n",
    "    encoding=\"ISO-8859-1\", \n",
    "    error_bad_lines=False\n",
    ")\n",
    "df.shape"
   ]
  },
  {
   "cell_type": "code",
   "execution_count": null,
   "metadata": {},
   "outputs": [],
   "source": [
    "df.head(5)"
   ]
  },
  {
   "cell_type": "code",
   "execution_count": null,
   "metadata": {},
   "outputs": [],
   "source": [
    "df.dtypes"
   ]
  },
  {
   "cell_type": "code",
   "execution_count": null,
   "metadata": {},
   "outputs": [],
   "source": [
    "####### Resample 'amount' field with interval=10000\n",
    "\n",
    "amount = df['amount'].to_frame()\n",
    "subsample = amount[::10000].reset_index(drop=True)\n",
    "subsample.head(20)"
   ]
  },
  {
   "cell_type": "code",
   "execution_count": null,
   "metadata": {},
   "outputs": [],
   "source": [
    "####### Visualize\n",
    "\n",
    "# draw line plot of amount\n",
    "f = plt.figure(1, figsize=(16, 6))\n",
    "ax1 = f.add_subplot(2,1,1)\n",
    "ax1.plot(subsample)\n",
    "ax1.title.set_text(\"Amount - line plot\")\n",
    "\n",
    "# draw boxplot of amount\n",
    "ax2 = f.add_subplot(2,1,2)\n",
    "_ = ax2.boxplot(subsample)\n",
    "ax2.title.set_text(\"Amount - Box plot\")\n",
    "\n",
    "plt.show()"
   ]
  },
  {
   "attachments": {
    "box_plot.png": {
     "image/png": "[encoded data removed]"
    }
   },
   "cell_type": "markdown",
   "metadata": {},
   "source": [
    "### Boxplot definition\n",
    "![box_plot.png](attachment:box_plot.png)"
   ]
  },
  {
   "cell_type": "code",
   "execution_count": null,
   "metadata": {},
   "outputs": [],
   "source": [
    "####### iForest train\n",
    "\n",
    "from sklearn.ensemble import IsolationForest\n",
    "\n",
    "# definition\n",
    "model = IsolationForest(\n",
    "    contamination=0.01, \n",
    "    n_estimators=100\n",
    ")\n",
    "\n",
    "# train\n",
    "model.fit(subsample)"
   ]
  },
  {
   "cell_type": "code",
   "execution_count": null,
   "metadata": {},
   "outputs": [],
   "source": [
    "####### Prediction\n",
    "\n",
    "subsample[\"iforest\"] = pd.Series(model.predict(subsample))\n",
    "subsample[\"iforest\"] = subsample[\"iforest\"].map({1: 0, -1: 1})"
   ]
  },
  {
   "cell_type": "code",
   "execution_count": null,
   "metadata": {},
   "outputs": [],
   "source": [
    "####### Visualize anomalies\n",
    "\n",
    "####### draw line plot of amount\n",
    "f = plt.figure(1, figsize=(16, 6))\n",
    "ax = f.add_subplot(2,1,1)\n",
    "ax.plot(subsample)\n",
    "ax.title.set_text(\"Amount\")\n",
    "\n",
    "####### plot anomaly with marker\n",
    "anomaly = subsample[subsample['iforest']==1]\n",
    "\n",
    "ax.scatter(\n",
    "    anomaly.index,\n",
    "    anomaly['amount'],\n",
    "    marker='o',\n",
    "    c='red',\n",
    "    s=40\n",
    ")\n",
    "\n",
    "plt.show()"
   ]
  },
  {
   "cell_type": "code",
   "execution_count": null,
   "metadata": {},
   "outputs": [],
   "source": [
    "##### Plot the boxplot after removing the extreme anomaleis\n",
    "normal = subsample[subsample['iforest']==0]\n",
    "\n",
    "f = plt.figure(1, figsize=(16, 6))\n",
    "ax = f.add_subplot(1,1,1)\n",
    "ax.boxplot(normal['amount'])\n",
    "plt.show()"
   ]
  },
  {
   "cell_type": "markdown",
   "metadata": {},
   "source": [
    "### Task: \n",
    "    1. Set up the python environment with anaconda, and run the sample code in this notebook to get to know the basic visualizaiton and anomaly detection.\n",
    "    2. Review above code snippets and read paper with web article to study the detail of iForest.\n",
    "        a). https://cs.nju.edu.cn/zhouzh/zhouzh.files/publication/icdm08b.pdf?q=isolation-forest\n",
    "        b). https://www.analyticsvidhya.com/blog/2021/07/anomaly-detection-using-isolation-forest-a-complete-guide/\n",
    "    3. Visualize the synthetic financial dataset with multiple fields.\n",
    "    4. Perform iForest on these multivariate time series to detect the anomaly.\n",
    "    5. Visualize the multivariate anomalies and compare the results with that based of only 'amount' field series.\n",
    "    \n",
    "    "
   ]
  },
  {
   "cell_type": "code",
   "execution_count": null,
   "metadata": {},
   "outputs": [],
   "source": []
  }
 ],
 "metadata": {
  "kernelspec": {
   "display_name": "Python 3 (ipykernel)",
   "language": "python",
   "name": "python3"
  },
  "language_info": {
   "codemirror_mode": {
    "name": "ipython",
    "version": 3
   },
   "file_extension": ".py",
   "mimetype": "text/x-python",
   "name": "python",
   "nbconvert_exporter": "python",
   "pygments_lexer": "ipython3",
   "version": "3.8.13"
  }
 },
 "nbformat": 4,
 "nbformat_minor": 4
}
